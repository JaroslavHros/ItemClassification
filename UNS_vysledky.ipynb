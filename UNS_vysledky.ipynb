{
 "cells": [
  {
   "cell_type": "code",
   "execution_count": null,
   "metadata": {},
   "outputs": [],
   "source": [
    "import pandas as pd\n",
    "\n",
    "results_frame = pd.read_csv('updated_results.csv')\n",
    "\n"
   ]
  },
  {
   "cell_type": "code",
   "execution_count": null,
   "metadata": {},
   "outputs": [],
   "source": [
    "col_list = ['pred_ANN', 'pred_CNN', 'pred_ANN_BM' , 'pred_CNN_BM']\n",
    "\n",
    "for col in col_list:\n",
    "    results_frame[col] = results_frame[col].str.replace('ProductItem_Combined_', '')"
   ]
  },
  {
   "attachments": {},
   "cell_type": "markdown",
   "metadata": {},
   "source": [
    "# Vysledky z ANN, CNN a ich best modelov pomocou tunera"
   ]
  },
  {
   "cell_type": "code",
   "execution_count": null,
   "metadata": {},
   "outputs": [],
   "source": [
    "import numpy as np\n",
    "results_frame['true_predicted_count'] = np.sum(results_frame[['pred_ANN', 'pred_CNN', 'pred_ANN_BM' , 'pred_CNN_BM']] == results_frame['ProductItem_Combined'].values[:,None], axis=1)\n",
    "results_frame"
   ]
  },
  {
   "cell_type": "code",
   "execution_count": null,
   "metadata": {},
   "outputs": [],
   "source": [
    "results_frame = results_frame.drop(columns={'Unnamed: 0.1', 'Unnamed: 0' , 'Operational_status'})"
   ]
  },
  {
   "cell_type": "code",
   "execution_count": null,
   "metadata": {},
   "outputs": [],
   "source": [
    "results_frame"
   ]
  },
  {
   "cell_type": "code",
   "execution_count": null,
   "metadata": {},
   "outputs": [],
   "source": [
    "from sklearn.preprocessing import LabelEncoder\n",
    "import pandas as pd\n",
    "\n",
    "def label_encode_columns(df, columns_to_encode):\n",
    "    le = LabelEncoder()\n",
    "    encoded_cols = le.fit_transform(df[columns_to_encode].values.ravel())\n",
    "    df[columns_to_encode] = encoded_cols.reshape(-1, len(columns_to_encode))\n",
    "    return df"
   ]
  },
  {
   "cell_type": "code",
   "execution_count": null,
   "metadata": {},
   "outputs": [],
   "source": [
    "col_list = ['ProductItem_Combined', 'pred_ANN' , 'pred_CNN', 'pred_ANN_BM', 'pred_CNN_BM']\n",
    "encoded_frame = label_encode_columns(results_frame, col_list)"
   ]
  },
  {
   "cell_type": "code",
   "execution_count": null,
   "metadata": {},
   "outputs": [],
   "source": [
    "results_frame"
   ]
  },
  {
   "cell_type": "code",
   "execution_count": null,
   "metadata": {},
   "outputs": [],
   "source": [
    "encoded_frame"
   ]
  },
  {
   "cell_type": "code",
   "execution_count": null,
   "metadata": {},
   "outputs": [],
   "source": [
    "results_frame.Model_ID.value_counts().sort_values().plot(kind='barh', title='Model ID dist', xlabel='Frequency', ylabel='ID', color='blue')"
   ]
  },
  {
   "attachments": {},
   "cell_type": "markdown",
   "metadata": {},
   "source": [
    "# vylepšenie  možno pomocou clusteringu"
   ]
  },
  {
   "cell_type": "code",
   "execution_count": null,
   "metadata": {},
   "outputs": [],
   "source": [
    "results_frame.Model_number.value_counts().sort_values().plot(kind='barh', title='Model Number dist', xlabel='Frequency', ylabel='model number', color='blue')"
   ]
  },
  {
   "cell_type": "code",
   "execution_count": null,
   "metadata": {},
   "outputs": [],
   "source": [
    "results_frame.ProductItem_Combined.value_counts().sort_values().plot(kind='barh', title='PI distribution', xlabel='Frequency', ylabel='PI', color='blue')\n"
   ]
  },
  {
   "cell_type": "code",
   "execution_count": null,
   "metadata": {},
   "outputs": [],
   "source": [
    "results_frame.pred_ANN.value_counts().sort_values().plot(kind='barh', title='Pred ANN distribution', xlabel='Frequency', ylabel='PI', color='blue')"
   ]
  },
  {
   "cell_type": "code",
   "execution_count": null,
   "metadata": {},
   "outputs": [],
   "source": [
    "encoded_frame.pred_ANN_BM.value_counts().sort_values().plot(kind='barh', title='Pred ANN best model distribution', xlabel='Frequency', ylabel='PI', color='blue')"
   ]
  },
  {
   "cell_type": "code",
   "execution_count": null,
   "metadata": {},
   "outputs": [],
   "source": [
    "results_frame.pred_CNN.value_counts().sort_values().plot(kind='barh', title='Pred CNN distribution', xlabel='Frequency', ylabel='PI', color='blue')"
   ]
  },
  {
   "cell_type": "code",
   "execution_count": null,
   "metadata": {},
   "outputs": [],
   "source": [
    "encoded_frame.pred_CNN.value_counts().sort_values().plot(kind='barh', title='Pred CNN distribution', xlabel='Frequency', ylabel='PI', color='blue')"
   ]
  },
  {
   "cell_type": "code",
   "execution_count": null,
   "metadata": {},
   "outputs": [],
   "source": [
    "encoded_frame.pred_ANN.value_counts().sort_values().plot(kind='barh', title='Pred CNN distribution', ylabel='Frequency', xlabel='PI class', color='blue')"
   ]
  },
  {
   "cell_type": "code",
   "execution_count": null,
   "metadata": {},
   "outputs": [],
   "source": [
    "encoded_frame.pred_CNN_BM.value_counts().sort_values().plot(kind='barh', title='Pred CNN best model distribution', ylabel='Frequency', xlabel='PI class', color='blue')"
   ]
  },
  {
   "cell_type": "code",
   "execution_count": null,
   "metadata": {},
   "outputs": [],
   "source": [
    "encoded_frame.ProductItem_Combined.value_counts().sort_values().plot(kind='barh', title='PI distribution', ylabel='PI class', color='blue')"
   ]
  },
  {
   "cell_type": "code",
   "execution_count": null,
   "metadata": {},
   "outputs": [],
   "source": [
    "results_frame.true_predicted_count.value_counts().plot(kind='bar', title='True predicted Count', xlabel='Model predicted true Count' ,ylabel='Sum of true predictions')"
   ]
  },
  {
   "cell_type": "code",
   "execution_count": null,
   "metadata": {},
   "outputs": [],
   "source": [
    "\n",
    "\n",
    "import plotly.express as px\n",
    "\n",
    "df_plotANNres = pd.DataFrame((results_frame.ProductItem_Combined == results_frame.pred_ANN).value_counts())\n",
    "fig = px.pie(df_plotANNres, values=df_plotANNres[0].values, names=df_plotANNres.index)\n",
    "fig.show()"
   ]
  },
  {
   "cell_type": "code",
   "execution_count": null,
   "metadata": {},
   "outputs": [],
   "source": [
    "\n",
    "\n",
    "import plotly.express as px\n",
    "\n",
    "df_plotANNres_bm = pd.DataFrame((results_frame.ProductItem_Combined == results_frame.pred_ANN_BM).value_counts())\n",
    "fig = px.pie(df_plotANNres_bm, values=df_plotANNres_bm[0].values, names=df_plotANNres_bm.index)\n",
    "fig.show()\n"
   ]
  },
  {
   "cell_type": "code",
   "execution_count": null,
   "metadata": {},
   "outputs": [],
   "source": [
    "\n",
    "\n",
    "df_plotCNNres = pd.DataFrame((results_frame.ProductItem_Combined == results_frame.pred_CNN).value_counts())\n",
    "fig = px.pie(df_plotANNres, values=df_plotANNres[0].values, names=df_plotANNres.index)\n",
    "fig.show()"
   ]
  },
  {
   "cell_type": "code",
   "execution_count": null,
   "metadata": {},
   "outputs": [],
   "source": [
    "import plotly.express as px\n",
    "\n",
    "df_plotCNNres_bm = pd.DataFrame((results_frame.ProductItem_Combined == results_frame.pred_CNN_BM).value_counts())\n",
    "fig = px.pie(df_plotCNNres_bm, values=df_plotCNNres_bm[0].values, names=df_plotCNNres_bm.index)\n",
    "fig.show()"
   ]
  },
  {
   "cell_type": "code",
   "execution_count": null,
   "metadata": {},
   "outputs": [],
   "source": [
    "#results_frame.to_csv('results.csv')"
   ]
  }
 ],
 "metadata": {
  "kernelspec": {
   "display_name": "Python 3",
   "language": "python",
   "name": "python3"
  },
  "language_info": {
   "codemirror_mode": {
    "name": "ipython",
    "version": 3
   },
   "file_extension": ".py",
   "mimetype": "text/x-python",
   "name": "python",
   "nbconvert_exporter": "python",
   "pygments_lexer": "ipython3",
   "version": "3.10.2"
  },
  "orig_nbformat": 4,
  "vscode": {
   "interpreter": {
    "hash": "a2ac6d0c15653e7c58bfe1a9f33691488ddad744437e6d084867bb6ddb9db75b"
   }
  }
 },
 "nbformat": 4,
 "nbformat_minor": 2
}
