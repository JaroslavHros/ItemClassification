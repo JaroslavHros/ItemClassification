{
 "cells": [
  {
   "cell_type": "code",
   "execution_count": null,
   "metadata": {},
   "outputs": [],
   "source": [
    "import pandas as pd\n",
    "from mlxtend.frequent_patterns import apriori, association_rules\n",
    "ci = pd.read_csv('ci_updated.csv')\n",
    "rel = pd.read_csv('ci_rel_updated.csv').rename(columns={'chi_u_number' : 'CI number'})\n",
    "pi = pd.read_csv('pi_updated.csv').rename(columns={'u_configuration_item.u_number' : 'CI number'})\n",
    "\n"
   ]
  },
  {
   "cell_type": "code",
   "execution_count": null,
   "metadata": {},
   "outputs": [],
   "source": [
    "rels = rel.set_index('CI number').join(pi.set_index('CI number'))\n",
    "rels = rels.reset_index(drop=True).rename(columns={'par_u_number' : 'CI number'}).set_index('CI number')\n",
    "ci_child = rels[pd.notna(rels['u_product_item'])]['u_product_item']\n",
    "\n",
    "ci = ci.rename(columns={'u_ci.u_number' : 'CI number'}).set_index('CI number')\n",
    "ci = ci.join(pi.set_index('CI number'))\n",
    "\n",
    "ci = ci.rename(columns={\n",
    "    'u_ci' : 'Name',\n",
    "    'u_ci.u_subclass' : 'Classification',\n",
    "    'u_ci.company.u_top_company' : 'Company',\n",
    "    'u_ci.model_id' : 'Model_ID',\n",
    "    'u_ci.model_number' : 'Model_number',\n",
    "    'u_ci.operational_status' : 'Operational_status',\n",
    "    'u_product_item' : 'Product item',\n",
    "    'u_calculation_type' : 'Calculation type',\n",
    "    'u_ci.u_primary_bs'  : 'Business_service'\n",
    "})\n",
    "\n",
    "ci = ci.join(ci_child)\n",
    "ci = ci.rename(columns={'u_product_item' : 'Child product item'})\n",
    "dupl = pi[pi['CI number'].duplicated() == True]\n",
    "dupl.rename(columns={'u_product_item' : 'Product item2'}, inplace=True)\n",
    "ci = ci.join(dupl.set_index('CI number'))\n",
    "tst = ci_child.to_frame()\n",
    "tst= tst.reset_index()\n",
    "duplPI2 = tst[tst['CI number'].duplicated() == True]\n",
    "duplPI2.drop_duplicates(keep= 'first')\n",
    "duplPI2.rename(columns= {'u_product_item' : 'Child Product Item2'} , inplace=True) \n",
    "ci_test = ci\n",
    "ci_test = ci_test.join(duplPI2.set_index('CI number'))\n",
    "ci_test = ci_test.drop_duplicates(keep='first', subset='Name')\n",
    "\n",
    "ci_test = ci_test.drop(columns='u_calculation_type')"
   ]
  },
  {
   "cell_type": "code",
   "execution_count": null,
   "metadata": {},
   "outputs": [],
   "source": [
    "ci_test.reset_index()"
   ]
  },
  {
   "cell_type": "code",
   "execution_count": null,
   "metadata": {},
   "outputs": [],
   "source": [
    "ci_test['Business_service'].value_counts()"
   ]
  },
  {
   "cell_type": "code",
   "execution_count": null,
   "metadata": {},
   "outputs": [],
   "source": [
    "itask_assigment = pd.read_csv('incident_task.csv')"
   ]
  },
  {
   "cell_type": "code",
   "execution_count": null,
   "metadata": {},
   "outputs": [],
   "source": [
    "ci_test['ProductItem_Combined'] = \" PI- \" + ci_test['Product item'].astype(str) + \" PI2- \" + ci_test['Product item2'].astype(str) + \" PI_CH- \" + ci_test['Child product item'].astype(str) + \" PI_CH2- \" + ci_test['Child Product Item2'].astype(str)\n",
    "ci_frame_combined = ci_test[[ 'Name', 'Classification', 'Company', 'Model_ID', 'Model_number', 'Operational_status', 'ProductItem_Combined', 'Business_service']]\n",
    "\n",
    "ci_frame_combined"
   ]
  },
  {
   "cell_type": "code",
   "execution_count": null,
   "metadata": {},
   "outputs": [],
   "source": [
    "ci_frame_combined= ci_frame_combined.reset_index()"
   ]
  },
  {
   "cell_type": "code",
   "execution_count": null,
   "metadata": {},
   "outputs": [],
   "source": [
    "itask_assigment = itask_assigment.rename(columns={'cmdb_ci.u_number' : 'CI_number'})\n",
    "ci_frame_combined = ci_frame_combined.rename(columns={'CI number' : 'CI_number'})"
   ]
  },
  {
   "cell_type": "code",
   "execution_count": null,
   "metadata": {},
   "outputs": [],
   "source": [
    "# Create a new column in the first dataset with default value of False\n",
    "ci_frame_combined['itask_created'] = False\n",
    "\n",
    "# Iterate over each row in the first dataset and check if the \"CI_number\" is in the second dataset\n",
    "for index, row in ci_frame_combined.iterrows():\n",
    "    if row['CI_number'] in itask_assigment['CI_number'].values:\n",
    "        # If the \"CI_number\" is in the second dataset, set the value of \"itask_created\" to True\n",
    "        ci_frame_combined.at[index, 'itask_created'] = True\n"
   ]
  },
  {
   "cell_type": "code",
   "execution_count": null,
   "metadata": {},
   "outputs": [],
   "source": [
    "ci_frame_combined"
   ]
  }
 ],
 "metadata": {
  "kernelspec": {
   "display_name": "Python 3",
   "language": "python",
   "name": "python3"
  },
  "language_info": {
   "codemirror_mode": {
    "name": "ipython",
    "version": 3
   },
   "file_extension": ".py",
   "mimetype": "text/x-python",
   "name": "python",
   "nbconvert_exporter": "python",
   "pygments_lexer": "ipython3",
   "version": "3.10.10"
  },
  "orig_nbformat": 4,
  "vscode": {
   "interpreter": {
    "hash": "a23caf8493213e5489444261b7ae1069c253cca630e19a7c14bf1525c71f4e64"
   }
  }
 },
 "nbformat": 4,
 "nbformat_minor": 2
}
